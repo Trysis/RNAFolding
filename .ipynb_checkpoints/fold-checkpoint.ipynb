{
 "cells": [
  {
   "cell_type": "code",
   "execution_count": 34,
   "id": "b32b75c8-47d4-4844-ba00-d94a4c74c70d",
   "metadata": {},
   "outputs": [],
   "source": [
    "# Data gestion\n",
    "import numpy as np\n",
    "import pandas as pd\n",
    "import matplotlib.pyplot as plt\n",
    "from sklearn.preprocessing import OneHotEncoder\n",
    "# Pattern matching\n",
    "import re"
   ]
  },
  {
   "cell_type": "code",
   "execution_count": 113,
   "id": "46044a7d-295d-408d-90f5-6abde533017c",
   "metadata": {},
   "outputs": [],
   "source": [
    "# Constantes\n",
    "RNA_BASES = [[\"A\"], [\"U\"], [\"C\"], [\"G\"]]\n",
    "encoder = OneHotEncoder(handle_unknown='ignore', sparse_output=False).fit(RNA_BASES)"
   ]
  },
  {
   "cell_type": "code",
   "execution_count": 4,
   "id": "119cba84-c6dc-4e32-931d-2ed34197eb6d",
   "metadata": {},
   "outputs": [],
   "source": [
    "# Path to csv containing RNA sequence and reactivities\n",
    "datapath = \"./data/SN_filtered_data.csv\""
   ]
  },
  {
   "cell_type": "code",
   "execution_count": 8,
   "id": "54efaa40-6f09-4f02-83c3-27439f17c8fd",
   "metadata": {},
   "outputs": [],
   "source": [
    "rna_data = pd.read_csv(datapath, header=0, index_col=0)"
   ]
  },
  {
   "cell_type": "code",
   "execution_count": 9,
   "id": "68ec78af-02b5-4615-b555-6a5b3f8d7784",
   "metadata": {},
   "outputs": [
    {
     "data": {
      "text/html": [
       "<div>\n",
       "<style scoped>\n",
       "    .dataframe tbody tr th:only-of-type {\n",
       "        vertical-align: middle;\n",
       "    }\n",
       "\n",
       "    .dataframe tbody tr th {\n",
       "        vertical-align: top;\n",
       "    }\n",
       "\n",
       "    .dataframe thead th {\n",
       "        text-align: right;\n",
       "    }\n",
       "</style>\n",
       "<table border=\"1\" class=\"dataframe\">\n",
       "  <thead>\n",
       "    <tr style=\"text-align: right;\">\n",
       "      <th></th>\n",
       "      <th>sequence_id</th>\n",
       "      <th>sequence</th>\n",
       "      <th>experiment_type</th>\n",
       "      <th>dataset_name</th>\n",
       "      <th>reads</th>\n",
       "      <th>signal_to_noise</th>\n",
       "      <th>SN_filter</th>\n",
       "      <th>reactivity_0001</th>\n",
       "      <th>reactivity_0002</th>\n",
       "      <th>reactivity_0003</th>\n",
       "      <th>...</th>\n",
       "      <th>reactivity_error_0197</th>\n",
       "      <th>reactivity_error_0198</th>\n",
       "      <th>reactivity_error_0199</th>\n",
       "      <th>reactivity_error_0200</th>\n",
       "      <th>reactivity_error_0201</th>\n",
       "      <th>reactivity_error_0202</th>\n",
       "      <th>reactivity_error_0203</th>\n",
       "      <th>reactivity_error_0204</th>\n",
       "      <th>reactivity_error_0205</th>\n",
       "      <th>reactivity_error_0206</th>\n",
       "    </tr>\n",
       "  </thead>\n",
       "  <tbody>\n",
       "    <tr>\n",
       "      <th>1</th>\n",
       "      <td>51e61fbde94d</td>\n",
       "      <td>GGGAACGACUCGAGUAGAGUCGAAAAACAUUGAUAUGGAUUUACUC...</td>\n",
       "      <td>2A3_MaP</td>\n",
       "      <td>15k_2A3</td>\n",
       "      <td>5326.0</td>\n",
       "      <td>1.933</td>\n",
       "      <td>1</td>\n",
       "      <td>NaN</td>\n",
       "      <td>NaN</td>\n",
       "      <td>NaN</td>\n",
       "      <td>...</td>\n",
       "      <td>NaN</td>\n",
       "      <td>NaN</td>\n",
       "      <td>NaN</td>\n",
       "      <td>NaN</td>\n",
       "      <td>NaN</td>\n",
       "      <td>NaN</td>\n",
       "      <td>NaN</td>\n",
       "      <td>NaN</td>\n",
       "      <td>NaN</td>\n",
       "      <td>NaN</td>\n",
       "    </tr>\n",
       "    <tr>\n",
       "      <th>2</th>\n",
       "      <td>25ce8d5109cd</td>\n",
       "      <td>GGGAACGACUCGAGUAGAGUCGAAAAACCUUGAUAUGGAUUUACUC...</td>\n",
       "      <td>2A3_MaP</td>\n",
       "      <td>15k_2A3</td>\n",
       "      <td>4647.0</td>\n",
       "      <td>2.347</td>\n",
       "      <td>1</td>\n",
       "      <td>NaN</td>\n",
       "      <td>NaN</td>\n",
       "      <td>NaN</td>\n",
       "      <td>...</td>\n",
       "      <td>NaN</td>\n",
       "      <td>NaN</td>\n",
       "      <td>NaN</td>\n",
       "      <td>NaN</td>\n",
       "      <td>NaN</td>\n",
       "      <td>NaN</td>\n",
       "      <td>NaN</td>\n",
       "      <td>NaN</td>\n",
       "      <td>NaN</td>\n",
       "      <td>NaN</td>\n",
       "    </tr>\n",
       "    <tr>\n",
       "      <th>3</th>\n",
       "      <td>07dcfb6d1965</td>\n",
       "      <td>GGGAACGACUCGAGUAGAGUCGAAAAACUUUGAUAUGGAUUUACUC...</td>\n",
       "      <td>2A3_MaP</td>\n",
       "      <td>15k_2A3</td>\n",
       "      <td>102843.0</td>\n",
       "      <td>11.824</td>\n",
       "      <td>1</td>\n",
       "      <td>NaN</td>\n",
       "      <td>NaN</td>\n",
       "      <td>NaN</td>\n",
       "      <td>...</td>\n",
       "      <td>NaN</td>\n",
       "      <td>NaN</td>\n",
       "      <td>NaN</td>\n",
       "      <td>NaN</td>\n",
       "      <td>NaN</td>\n",
       "      <td>NaN</td>\n",
       "      <td>NaN</td>\n",
       "      <td>NaN</td>\n",
       "      <td>NaN</td>\n",
       "      <td>NaN</td>\n",
       "    </tr>\n",
       "    <tr>\n",
       "      <th>4</th>\n",
       "      <td>e561cc042a4c</td>\n",
       "      <td>GGGAACGACUCGAGUAGAGUCGAAAAACGAUGAUAUGGAUUUACUC...</td>\n",
       "      <td>2A3_MaP</td>\n",
       "      <td>15k_2A3</td>\n",
       "      <td>7665.0</td>\n",
       "      <td>3.519</td>\n",
       "      <td>1</td>\n",
       "      <td>NaN</td>\n",
       "      <td>NaN</td>\n",
       "      <td>NaN</td>\n",
       "      <td>...</td>\n",
       "      <td>NaN</td>\n",
       "      <td>NaN</td>\n",
       "      <td>NaN</td>\n",
       "      <td>NaN</td>\n",
       "      <td>NaN</td>\n",
       "      <td>NaN</td>\n",
       "      <td>NaN</td>\n",
       "      <td>NaN</td>\n",
       "      <td>NaN</td>\n",
       "      <td>NaN</td>\n",
       "    </tr>\n",
       "    <tr>\n",
       "      <th>5</th>\n",
       "      <td>aa948762535f</td>\n",
       "      <td>GGGAACGACUCGAGUAGAGUCGAAAAACGCUGAUAUGGAUUUACUC...</td>\n",
       "      <td>2A3_MaP</td>\n",
       "      <td>15k_2A3</td>\n",
       "      <td>14018.0</td>\n",
       "      <td>3.219</td>\n",
       "      <td>1</td>\n",
       "      <td>NaN</td>\n",
       "      <td>NaN</td>\n",
       "      <td>NaN</td>\n",
       "      <td>...</td>\n",
       "      <td>NaN</td>\n",
       "      <td>NaN</td>\n",
       "      <td>NaN</td>\n",
       "      <td>NaN</td>\n",
       "      <td>NaN</td>\n",
       "      <td>NaN</td>\n",
       "      <td>NaN</td>\n",
       "      <td>NaN</td>\n",
       "      <td>NaN</td>\n",
       "      <td>NaN</td>\n",
       "    </tr>\n",
       "  </tbody>\n",
       "</table>\n",
       "<p>5 rows × 419 columns</p>\n",
       "</div>"
      ],
      "text/plain": [
       "    sequence_id                                           sequence  \\\n",
       "1  51e61fbde94d  GGGAACGACUCGAGUAGAGUCGAAAAACAUUGAUAUGGAUUUACUC...   \n",
       "2  25ce8d5109cd  GGGAACGACUCGAGUAGAGUCGAAAAACCUUGAUAUGGAUUUACUC...   \n",
       "3  07dcfb6d1965  GGGAACGACUCGAGUAGAGUCGAAAAACUUUGAUAUGGAUUUACUC...   \n",
       "4  e561cc042a4c  GGGAACGACUCGAGUAGAGUCGAAAAACGAUGAUAUGGAUUUACUC...   \n",
       "5  aa948762535f  GGGAACGACUCGAGUAGAGUCGAAAAACGCUGAUAUGGAUUUACUC...   \n",
       "\n",
       "  experiment_type dataset_name     reads  signal_to_noise  SN_filter  \\\n",
       "1         2A3_MaP      15k_2A3    5326.0            1.933          1   \n",
       "2         2A3_MaP      15k_2A3    4647.0            2.347          1   \n",
       "3         2A3_MaP      15k_2A3  102843.0           11.824          1   \n",
       "4         2A3_MaP      15k_2A3    7665.0            3.519          1   \n",
       "5         2A3_MaP      15k_2A3   14018.0            3.219          1   \n",
       "\n",
       "   reactivity_0001  reactivity_0002  reactivity_0003  ...  \\\n",
       "1              NaN              NaN              NaN  ...   \n",
       "2              NaN              NaN              NaN  ...   \n",
       "3              NaN              NaN              NaN  ...   \n",
       "4              NaN              NaN              NaN  ...   \n",
       "5              NaN              NaN              NaN  ...   \n",
       "\n",
       "   reactivity_error_0197  reactivity_error_0198  reactivity_error_0199  \\\n",
       "1                    NaN                    NaN                    NaN   \n",
       "2                    NaN                    NaN                    NaN   \n",
       "3                    NaN                    NaN                    NaN   \n",
       "4                    NaN                    NaN                    NaN   \n",
       "5                    NaN                    NaN                    NaN   \n",
       "\n",
       "   reactivity_error_0200  reactivity_error_0201  reactivity_error_0202  \\\n",
       "1                    NaN                    NaN                    NaN   \n",
       "2                    NaN                    NaN                    NaN   \n",
       "3                    NaN                    NaN                    NaN   \n",
       "4                    NaN                    NaN                    NaN   \n",
       "5                    NaN                    NaN                    NaN   \n",
       "\n",
       "   reactivity_error_0203  reactivity_error_0204  reactivity_error_0205  \\\n",
       "1                    NaN                    NaN                    NaN   \n",
       "2                    NaN                    NaN                    NaN   \n",
       "3                    NaN                    NaN                    NaN   \n",
       "4                    NaN                    NaN                    NaN   \n",
       "5                    NaN                    NaN                    NaN   \n",
       "\n",
       "   reactivity_error_0206  \n",
       "1                    NaN  \n",
       "2                    NaN  \n",
       "3                    NaN  \n",
       "4                    NaN  \n",
       "5                    NaN  \n",
       "\n",
       "[5 rows x 419 columns]"
      ]
     },
     "execution_count": 9,
     "metadata": {},
     "output_type": "execute_result"
    }
   ],
   "source": [
    "# Visualize first rows in dataset\n",
    "rna_data.head()"
   ]
  },
  {
   "cell_type": "code",
   "execution_count": 148,
   "id": "b3e6dc7b-2de6-4f02-862c-2b210021ca18",
   "metadata": {},
   "outputs": [],
   "source": [
    "def datatoOneHot(X, seqlen=206, col=\"sequence\"):\n",
    "    \"\"\"X: pandas.Dataframe\"\"\"\n",
    "    onehot_list = []\n",
    "    for i, sequence in enumerate(X[col]):\n",
    "        to_add = \"X\" * (seqlen - len(sequence))\n",
    "        filled_sequence = sequence + to_add\n",
    "        #\n",
    "        procc_sequence = [[nbase] for nbase in filled_sequence]\n",
    "        onehot_sequence = np.array(encoder.transform(procc_sequence))\n",
    "        onehot_list.append(onehot_sequence)\n",
    "\n",
    "    onehot_array = np.array(onehot_list)\n",
    "    x, y, z = onehot_array.shape\n",
    "\n",
    "    return onehot_array.reshape(x*y, z)"
   ]
  },
  {
   "cell_type": "code",
   "execution_count": 157,
   "id": "4a29f6ea-078e-4842-a1b1-ed2ddcbd85da",
   "metadata": {},
   "outputs": [],
   "source": [
    "def datatoXY(dataframe, x_columns, y_columns):\n",
    "    non_procc_X = dataframe[x_columns]\n",
    "    non_procc_Y = dataframe[y_columns].fillna(0)\n",
    "    #\n",
    "    X = datatoOneHot(non_procc_X)  # [N*seqlen, 4]\n",
    "    Y = non_procc_Y.values.reshape(-1, 1)  # [N*seqlen, 1]\n",
    "    return X, Y"
   ]
  },
  {
   "cell_type": "code",
   "execution_count": 158,
   "id": "ae190a81-199c-4ec9-83c0-f03e11f419f7",
   "metadata": {},
   "outputs": [],
   "source": [
    "# Get columns name for X, and Y\n",
    "X_cols = [\"sequence\"]\n",
    "Y_cols = [colname for colname in rna_data.columns if re.match(\"^reactivity_[0-9]{4}$\", colname)]\n",
    "\n",
    "X, Y = datatoXY(dataframe=rna_data[:3],\n",
    "                x_columns=X_cols,\n",
    "                y_columns=Y_cols)"
   ]
  },
  {
   "cell_type": "code",
   "execution_count": 159,
   "id": "2bfa27f4-b685-40b1-877e-6af43ac0b1f0",
   "metadata": {},
   "outputs": [
    {
     "data": {
      "text/plain": [
       "{115, 155, 170, 177, 206}"
      ]
     },
     "execution_count": 159,
     "metadata": {},
     "output_type": "execute_result"
    }
   ],
   "source": [
    "set(rna_data[\"sequence\"].str.len())"
   ]
  },
  {
   "cell_type": "code",
   "execution_count": 190,
   "id": "9eb42a4f-f970-4f2b-b4ca-defd87d98696",
   "metadata": {},
   "outputs": [],
   "source": [
    "def RNN_model():\n",
    "    hidden_units = 32\n",
    "    input_shape  = (4, 1)\n",
    "    output_units  = 1\n",
    "    model = Sequential()\n",
    "    model.add(SimpleRNN(hidden_units, input_shape=input_shape, activation=\"sigmoid\", return_sequences=True))\n",
    "    model.add(Flatten())\n",
    "    model.add(Dense(units=output_units))\n",
    "    # Compile model\n",
    "    model.compile(loss=keras.losses.MeanSquaredError(), metrics=['accuracy'], optimizer='adam')\n",
    "    return model"
   ]
  },
  {
   "cell_type": "code",
   "execution_count": 177,
   "id": "f886706f-cef3-452f-b8ee-7c7e3d698f10",
   "metadata": {},
   "outputs": [
    {
     "name": "stdout",
     "output_type": "stream",
     "text": [
      "X.shape = (618, 4) Y.shape = (618, 1)\n"
     ]
    }
   ],
   "source": [
    "print(f\"{X.shape = } {Y.shape = }\")"
   ]
  },
  {
   "cell_type": "code",
   "execution_count": 182,
   "id": "e40be828-b394-445f-84be-32763fabda4f",
   "metadata": {},
   "outputs": [],
   "source": [
    "from keras.models import Sequential\n",
    "from keras.layers import Dense\n",
    "from keras.layers import Dropout\n",
    "from keras.layers import SimpleRNN, GRU, LSTM, Flatten\n",
    "from tensorflow.keras import optimizers\n",
    "import keras"
   ]
  },
  {
   "cell_type": "code",
   "execution_count": 191,
   "id": "7e993719-8bc3-4c58-8cc1-083b98cf0b0e",
   "metadata": {},
   "outputs": [],
   "source": [
    "model = RNN_model()"
   ]
  },
  {
   "cell_type": "code",
   "execution_count": 192,
   "id": "9dde46d4-4d25-460e-88f3-05b967a48fab",
   "metadata": {},
   "outputs": [
    {
     "name": "stdout",
     "output_type": "stream",
     "text": [
      "Epoch 1/3\n",
      "618/618 [==============================] - 1s 921us/step - loss: 0.1172 - accuracy: 0.5146\n",
      "Epoch 2/3\n",
      "618/618 [==============================] - 1s 952us/step - loss: 0.1143 - accuracy: 0.5146\n",
      "Epoch 3/3\n",
      "618/618 [==============================] - 1s 928us/step - loss: 0.1123 - accuracy: 0.5146\n"
     ]
    }
   ],
   "source": [
    "history = model.fit(X, Y, epochs=3, batch_size=1)"
   ]
  },
  {
   "cell_type": "code",
   "execution_count": null,
   "id": "250d116b-792b-418a-8505-1f72b8c71b66",
   "metadata": {},
   "outputs": [],
   "source": []
  }
 ],
 "metadata": {
  "kernelspec": {
   "display_name": "Python 3 (ipykernel)",
   "language": "python",
   "name": "python3"
  },
  "language_info": {
   "codemirror_mode": {
    "name": "ipython",
    "version": 3
   },
   "file_extension": ".py",
   "mimetype": "text/x-python",
   "name": "python",
   "nbconvert_exporter": "python",
   "pygments_lexer": "ipython3",
   "version": "3.11.5"
  }
 },
 "nbformat": 4,
 "nbformat_minor": 5
}
