{
  "cells": [
    {
      "cell_type": "markdown",
      "metadata": {
        "id": "byH5N1HEopQ-"
      },
      "source": [
        "\n",
        "\n",
        "`# **Load train data**`"
      ]
    },
    {
      "cell_type": "markdown",
      "metadata": {
        "id": "3ztrgE2yvnL4"
      },
      "source": [
        "Connect to google drive"
      ]
    },
    {
      "cell_type": "code",
      "execution_count": null,
      "metadata": {
        "colab": {
          "base_uri": "https://localhost:8080/"
        },
        "id": "2PSys96cvkdS",
        "outputId": "be8e5efb-43f3-4bea-aa82-c611bb2fdbfb"
      },
      "outputs": [
        {
          "output_type": "stream",
          "name": "stdout",
          "text": [
            "Mounted at /content/drive\n"
          ]
        }
      ],
      "source": [
        "from google.colab import drive\n",
        "drive.mount('/content/drive')"
      ]
    },
    {
      "cell_type": "markdown",
      "metadata": {
        "id": "ZomOEm_SyL31"
      },
      "source": [
        "*Load* train data"
      ]
    },
    {
      "cell_type": "code",
      "execution_count": null,
      "metadata": {
        "id": "VnLco6JKmwxc"
      },
      "outputs": [],
      "source": [
        "import dask.dataframe as dd\n",
        "\n",
        "# Define the path of the CSV file\n",
        "csv_path = '/content/drive/My Drive/M2BI_DRIVE/train_data.csv'\n",
        "\n",
        "# Load the CSV file as a Dask DataFrame\n",
        "train_data = dd.read_csv(csv_path)"
      ]
    },
    {
      "cell_type": "markdown",
      "metadata": {
        "id": "U5KhTQ-qwfbG"
      },
      "source": [
        "# **Exploratory Data Analysis (EDA)**"
      ]
    },
    {
      "cell_type": "markdown",
      "metadata": {
        "id": "qwgn5zFGws7F"
      },
      "source": [
        "To be completed: add analysis of shape of the data, pycharts, boxplots, pehaps PCA, univariate analysis, multivariate analysis..."
      ]
    },
    {
      "cell_type": "code",
      "execution_count": null,
      "metadata": {
        "colab": {
          "base_uri": "https://localhost:8080/",
          "height": 256
        },
        "id": "pFKZeActGokI",
        "outputId": "7410bd77-a330-45c1-eca4-7a3a276074f9"
      },
      "outputs": [
        {
          "output_type": "execute_result",
          "data": {
            "text/plain": [
              "    sequence_id                                           sequence  \\\n",
              "0  8cdfeef009ea  GGGAACGACUCGAGUAGAGUCGAAAAACGUUGAUAUGGAUUUACUC...   \n",
              "1  51e61fbde94d  GGGAACGACUCGAGUAGAGUCGAAAAACAUUGAUAUGGAUUUACUC...   \n",
              "2  25ce8d5109cd  GGGAACGACUCGAGUAGAGUCGAAAAACCUUGAUAUGGAUUUACUC...   \n",
              "3  07dcfb6d1965  GGGAACGACUCGAGUAGAGUCGAAAAACUUUGAUAUGGAUUUACUC...   \n",
              "4  e561cc042a4c  GGGAACGACUCGAGUAGAGUCGAAAAACGAUGAUAUGGAUUUACUC...   \n",
              "\n",
              "  experiment_type dataset_name   reads  signal_to_noise  SN_filter  \\\n",
              "0         2A3_MaP      15k_2A3    2343            0.944          0   \n",
              "1         2A3_MaP      15k_2A3    5326            1.933          1   \n",
              "2         2A3_MaP      15k_2A3    4647            2.347          1   \n",
              "3         2A3_MaP      15k_2A3  102843           11.824          1   \n",
              "4         2A3_MaP      15k_2A3    7665            3.519          1   \n",
              "\n",
              "   reactivity_0001  reactivity_0002  reactivity_0003  ...  \\\n",
              "0              NaN              NaN              NaN  ...   \n",
              "1              NaN              NaN              NaN  ...   \n",
              "2              NaN              NaN              NaN  ...   \n",
              "3              NaN              NaN              NaN  ...   \n",
              "4              NaN              NaN              NaN  ...   \n",
              "\n",
              "   reactivity_error_0197  reactivity_error_0198  reactivity_error_0199  \\\n",
              "0                    NaN                    NaN                    NaN   \n",
              "1                    NaN                    NaN                    NaN   \n",
              "2                    NaN                    NaN                    NaN   \n",
              "3                    NaN                    NaN                    NaN   \n",
              "4                    NaN                    NaN                    NaN   \n",
              "\n",
              "   reactivity_error_0200  reactivity_error_0201  reactivity_error_0202  \\\n",
              "0                    NaN                    NaN                    NaN   \n",
              "1                    NaN                    NaN                    NaN   \n",
              "2                    NaN                    NaN                    NaN   \n",
              "3                    NaN                    NaN                    NaN   \n",
              "4                    NaN                    NaN                    NaN   \n",
              "\n",
              "   reactivity_error_0203  reactivity_error_0204  reactivity_error_0205  \\\n",
              "0                    NaN                    NaN                    NaN   \n",
              "1                    NaN                    NaN                    NaN   \n",
              "2                    NaN                    NaN                    NaN   \n",
              "3                    NaN                    NaN                    NaN   \n",
              "4                    NaN                    NaN                    NaN   \n",
              "\n",
              "   reactivity_error_0206  \n",
              "0                    NaN  \n",
              "1                    NaN  \n",
              "2                    NaN  \n",
              "3                    NaN  \n",
              "4                    NaN  \n",
              "\n",
              "[5 rows x 419 columns]"
            ],
            "text/html": [
              "\n",
              "  <div id=\"df-bef44172-cbea-4d82-9709-1da4391b541f\" class=\"colab-df-container\">\n",
              "    <div>\n",
              "<style scoped>\n",
              "    .dataframe tbody tr th:only-of-type {\n",
              "        vertical-align: middle;\n",
              "    }\n",
              "\n",
              "    .dataframe tbody tr th {\n",
              "        vertical-align: top;\n",
              "    }\n",
              "\n",
              "    .dataframe thead th {\n",
              "        text-align: right;\n",
              "    }\n",
              "</style>\n",
              "<table border=\"1\" class=\"dataframe\">\n",
              "  <thead>\n",
              "    <tr style=\"text-align: right;\">\n",
              "      <th></th>\n",
              "      <th>sequence_id</th>\n",
              "      <th>sequence</th>\n",
              "      <th>experiment_type</th>\n",
              "      <th>dataset_name</th>\n",
              "      <th>reads</th>\n",
              "      <th>signal_to_noise</th>\n",
              "      <th>SN_filter</th>\n",
              "      <th>reactivity_0001</th>\n",
              "      <th>reactivity_0002</th>\n",
              "      <th>reactivity_0003</th>\n",
              "      <th>...</th>\n",
              "      <th>reactivity_error_0197</th>\n",
              "      <th>reactivity_error_0198</th>\n",
              "      <th>reactivity_error_0199</th>\n",
              "      <th>reactivity_error_0200</th>\n",
              "      <th>reactivity_error_0201</th>\n",
              "      <th>reactivity_error_0202</th>\n",
              "      <th>reactivity_error_0203</th>\n",
              "      <th>reactivity_error_0204</th>\n",
              "      <th>reactivity_error_0205</th>\n",
              "      <th>reactivity_error_0206</th>\n",
              "    </tr>\n",
              "  </thead>\n",
              "  <tbody>\n",
              "    <tr>\n",
              "      <th>0</th>\n",
              "      <td>8cdfeef009ea</td>\n",
              "      <td>GGGAACGACUCGAGUAGAGUCGAAAAACGUUGAUAUGGAUUUACUC...</td>\n",
              "      <td>2A3_MaP</td>\n",
              "      <td>15k_2A3</td>\n",
              "      <td>2343</td>\n",
              "      <td>0.944</td>\n",
              "      <td>0</td>\n",
              "      <td>NaN</td>\n",
              "      <td>NaN</td>\n",
              "      <td>NaN</td>\n",
              "      <td>...</td>\n",
              "      <td>NaN</td>\n",
              "      <td>NaN</td>\n",
              "      <td>NaN</td>\n",
              "      <td>NaN</td>\n",
              "      <td>NaN</td>\n",
              "      <td>NaN</td>\n",
              "      <td>NaN</td>\n",
              "      <td>NaN</td>\n",
              "      <td>NaN</td>\n",
              "      <td>NaN</td>\n",
              "    </tr>\n",
              "    <tr>\n",
              "      <th>1</th>\n",
              "      <td>51e61fbde94d</td>\n",
              "      <td>GGGAACGACUCGAGUAGAGUCGAAAAACAUUGAUAUGGAUUUACUC...</td>\n",
              "      <td>2A3_MaP</td>\n",
              "      <td>15k_2A3</td>\n",
              "      <td>5326</td>\n",
              "      <td>1.933</td>\n",
              "      <td>1</td>\n",
              "      <td>NaN</td>\n",
              "      <td>NaN</td>\n",
              "      <td>NaN</td>\n",
              "      <td>...</td>\n",
              "      <td>NaN</td>\n",
              "      <td>NaN</td>\n",
              "      <td>NaN</td>\n",
              "      <td>NaN</td>\n",
              "      <td>NaN</td>\n",
              "      <td>NaN</td>\n",
              "      <td>NaN</td>\n",
              "      <td>NaN</td>\n",
              "      <td>NaN</td>\n",
              "      <td>NaN</td>\n",
              "    </tr>\n",
              "    <tr>\n",
              "      <th>2</th>\n",
              "      <td>25ce8d5109cd</td>\n",
              "      <td>GGGAACGACUCGAGUAGAGUCGAAAAACCUUGAUAUGGAUUUACUC...</td>\n",
              "      <td>2A3_MaP</td>\n",
              "      <td>15k_2A3</td>\n",
              "      <td>4647</td>\n",
              "      <td>2.347</td>\n",
              "      <td>1</td>\n",
              "      <td>NaN</td>\n",
              "      <td>NaN</td>\n",
              "      <td>NaN</td>\n",
              "      <td>...</td>\n",
              "      <td>NaN</td>\n",
              "      <td>NaN</td>\n",
              "      <td>NaN</td>\n",
              "      <td>NaN</td>\n",
              "      <td>NaN</td>\n",
              "      <td>NaN</td>\n",
              "      <td>NaN</td>\n",
              "      <td>NaN</td>\n",
              "      <td>NaN</td>\n",
              "      <td>NaN</td>\n",
              "    </tr>\n",
              "    <tr>\n",
              "      <th>3</th>\n",
              "      <td>07dcfb6d1965</td>\n",
              "      <td>GGGAACGACUCGAGUAGAGUCGAAAAACUUUGAUAUGGAUUUACUC...</td>\n",
              "      <td>2A3_MaP</td>\n",
              "      <td>15k_2A3</td>\n",
              "      <td>102843</td>\n",
              "      <td>11.824</td>\n",
              "      <td>1</td>\n",
              "      <td>NaN</td>\n",
              "      <td>NaN</td>\n",
              "      <td>NaN</td>\n",
              "      <td>...</td>\n",
              "      <td>NaN</td>\n",
              "      <td>NaN</td>\n",
              "      <td>NaN</td>\n",
              "      <td>NaN</td>\n",
              "      <td>NaN</td>\n",
              "      <td>NaN</td>\n",
              "      <td>NaN</td>\n",
              "      <td>NaN</td>\n",
              "      <td>NaN</td>\n",
              "      <td>NaN</td>\n",
              "    </tr>\n",
              "    <tr>\n",
              "      <th>4</th>\n",
              "      <td>e561cc042a4c</td>\n",
              "      <td>GGGAACGACUCGAGUAGAGUCGAAAAACGAUGAUAUGGAUUUACUC...</td>\n",
              "      <td>2A3_MaP</td>\n",
              "      <td>15k_2A3</td>\n",
              "      <td>7665</td>\n",
              "      <td>3.519</td>\n",
              "      <td>1</td>\n",
              "      <td>NaN</td>\n",
              "      <td>NaN</td>\n",
              "      <td>NaN</td>\n",
              "      <td>...</td>\n",
              "      <td>NaN</td>\n",
              "      <td>NaN</td>\n",
              "      <td>NaN</td>\n",
              "      <td>NaN</td>\n",
              "      <td>NaN</td>\n",
              "      <td>NaN</td>\n",
              "      <td>NaN</td>\n",
              "      <td>NaN</td>\n",
              "      <td>NaN</td>\n",
              "      <td>NaN</td>\n",
              "    </tr>\n",
              "  </tbody>\n",
              "</table>\n",
              "<p>5 rows × 419 columns</p>\n",
              "</div>\n",
              "    <div class=\"colab-df-buttons\">\n",
              "\n",
              "  <div class=\"colab-df-container\">\n",
              "    <button class=\"colab-df-convert\" onclick=\"convertToInteractive('df-bef44172-cbea-4d82-9709-1da4391b541f')\"\n",
              "            title=\"Convert this dataframe to an interactive table.\"\n",
              "            style=\"display:none;\">\n",
              "\n",
              "  <svg xmlns=\"http://www.w3.org/2000/svg\" height=\"24px\" viewBox=\"0 -960 960 960\">\n",
              "    <path d=\"M120-120v-720h720v720H120Zm60-500h600v-160H180v160Zm220 220h160v-160H400v160Zm0 220h160v-160H400v160ZM180-400h160v-160H180v160Zm440 0h160v-160H620v160ZM180-180h160v-160H180v160Zm440 0h160v-160H620v160Z\"/>\n",
              "  </svg>\n",
              "    </button>\n",
              "\n",
              "  <style>\n",
              "    .colab-df-container {\n",
              "      display:flex;\n",
              "      gap: 12px;\n",
              "    }\n",
              "\n",
              "    .colab-df-convert {\n",
              "      background-color: #E8F0FE;\n",
              "      border: none;\n",
              "      border-radius: 50%;\n",
              "      cursor: pointer;\n",
              "      display: none;\n",
              "      fill: #1967D2;\n",
              "      height: 32px;\n",
              "      padding: 0 0 0 0;\n",
              "      width: 32px;\n",
              "    }\n",
              "\n",
              "    .colab-df-convert:hover {\n",
              "      background-color: #E2EBFA;\n",
              "      box-shadow: 0px 1px 2px rgba(60, 64, 67, 0.3), 0px 1px 3px 1px rgba(60, 64, 67, 0.15);\n",
              "      fill: #174EA6;\n",
              "    }\n",
              "\n",
              "    .colab-df-buttons div {\n",
              "      margin-bottom: 4px;\n",
              "    }\n",
              "\n",
              "    [theme=dark] .colab-df-convert {\n",
              "      background-color: #3B4455;\n",
              "      fill: #D2E3FC;\n",
              "    }\n",
              "\n",
              "    [theme=dark] .colab-df-convert:hover {\n",
              "      background-color: #434B5C;\n",
              "      box-shadow: 0px 1px 3px 1px rgba(0, 0, 0, 0.15);\n",
              "      filter: drop-shadow(0px 1px 2px rgba(0, 0, 0, 0.3));\n",
              "      fill: #FFFFFF;\n",
              "    }\n",
              "  </style>\n",
              "\n",
              "    <script>\n",
              "      const buttonEl =\n",
              "        document.querySelector('#df-bef44172-cbea-4d82-9709-1da4391b541f button.colab-df-convert');\n",
              "      buttonEl.style.display =\n",
              "        google.colab.kernel.accessAllowed ? 'block' : 'none';\n",
              "\n",
              "      async function convertToInteractive(key) {\n",
              "        const element = document.querySelector('#df-bef44172-cbea-4d82-9709-1da4391b541f');\n",
              "        const dataTable =\n",
              "          await google.colab.kernel.invokeFunction('convertToInteractive',\n",
              "                                                    [key], {});\n",
              "        if (!dataTable) return;\n",
              "\n",
              "        const docLinkHtml = 'Like what you see? Visit the ' +\n",
              "          '<a target=\"_blank\" href=https://colab.research.google.com/notebooks/data_table.ipynb>data table notebook</a>'\n",
              "          + ' to learn more about interactive tables.';\n",
              "        element.innerHTML = '';\n",
              "        dataTable['output_type'] = 'display_data';\n",
              "        await google.colab.output.renderOutput(dataTable, element);\n",
              "        const docLink = document.createElement('div');\n",
              "        docLink.innerHTML = docLinkHtml;\n",
              "        element.appendChild(docLink);\n",
              "      }\n",
              "    </script>\n",
              "  </div>\n",
              "\n",
              "\n",
              "<div id=\"df-6b91b81e-fd1a-4caa-a244-e873cdce9d7f\">\n",
              "  <button class=\"colab-df-quickchart\" onclick=\"quickchart('df-6b91b81e-fd1a-4caa-a244-e873cdce9d7f')\"\n",
              "            title=\"Suggest charts.\"\n",
              "            style=\"display:none;\">\n",
              "\n",
              "<svg xmlns=\"http://www.w3.org/2000/svg\" height=\"24px\"viewBox=\"0 0 24 24\"\n",
              "     width=\"24px\">\n",
              "    <g>\n",
              "        <path d=\"M19 3H5c-1.1 0-2 .9-2 2v14c0 1.1.9 2 2 2h14c1.1 0 2-.9 2-2V5c0-1.1-.9-2-2-2zM9 17H7v-7h2v7zm4 0h-2V7h2v10zm4 0h-2v-4h2v4z\"/>\n",
              "    </g>\n",
              "</svg>\n",
              "  </button>\n",
              "\n",
              "<style>\n",
              "  .colab-df-quickchart {\n",
              "      --bg-color: #E8F0FE;\n",
              "      --fill-color: #1967D2;\n",
              "      --hover-bg-color: #E2EBFA;\n",
              "      --hover-fill-color: #174EA6;\n",
              "      --disabled-fill-color: #AAA;\n",
              "      --disabled-bg-color: #DDD;\n",
              "  }\n",
              "\n",
              "  [theme=dark] .colab-df-quickchart {\n",
              "      --bg-color: #3B4455;\n",
              "      --fill-color: #D2E3FC;\n",
              "      --hover-bg-color: #434B5C;\n",
              "      --hover-fill-color: #FFFFFF;\n",
              "      --disabled-bg-color: #3B4455;\n",
              "      --disabled-fill-color: #666;\n",
              "  }\n",
              "\n",
              "  .colab-df-quickchart {\n",
              "    background-color: var(--bg-color);\n",
              "    border: none;\n",
              "    border-radius: 50%;\n",
              "    cursor: pointer;\n",
              "    display: none;\n",
              "    fill: var(--fill-color);\n",
              "    height: 32px;\n",
              "    padding: 0;\n",
              "    width: 32px;\n",
              "  }\n",
              "\n",
              "  .colab-df-quickchart:hover {\n",
              "    background-color: var(--hover-bg-color);\n",
              "    box-shadow: 0 1px 2px rgba(60, 64, 67, 0.3), 0 1px 3px 1px rgba(60, 64, 67, 0.15);\n",
              "    fill: var(--button-hover-fill-color);\n",
              "  }\n",
              "\n",
              "  .colab-df-quickchart-complete:disabled,\n",
              "  .colab-df-quickchart-complete:disabled:hover {\n",
              "    background-color: var(--disabled-bg-color);\n",
              "    fill: var(--disabled-fill-color);\n",
              "    box-shadow: none;\n",
              "  }\n",
              "\n",
              "  .colab-df-spinner {\n",
              "    border: 2px solid var(--fill-color);\n",
              "    border-color: transparent;\n",
              "    border-bottom-color: var(--fill-color);\n",
              "    animation:\n",
              "      spin 1s steps(1) infinite;\n",
              "  }\n",
              "\n",
              "  @keyframes spin {\n",
              "    0% {\n",
              "      border-color: transparent;\n",
              "      border-bottom-color: var(--fill-color);\n",
              "      border-left-color: var(--fill-color);\n",
              "    }\n",
              "    20% {\n",
              "      border-color: transparent;\n",
              "      border-left-color: var(--fill-color);\n",
              "      border-top-color: var(--fill-color);\n",
              "    }\n",
              "    30% {\n",
              "      border-color: transparent;\n",
              "      border-left-color: var(--fill-color);\n",
              "      border-top-color: var(--fill-color);\n",
              "      border-right-color: var(--fill-color);\n",
              "    }\n",
              "    40% {\n",
              "      border-color: transparent;\n",
              "      border-right-color: var(--fill-color);\n",
              "      border-top-color: var(--fill-color);\n",
              "    }\n",
              "    60% {\n",
              "      border-color: transparent;\n",
              "      border-right-color: var(--fill-color);\n",
              "    }\n",
              "    80% {\n",
              "      border-color: transparent;\n",
              "      border-right-color: var(--fill-color);\n",
              "      border-bottom-color: var(--fill-color);\n",
              "    }\n",
              "    90% {\n",
              "      border-color: transparent;\n",
              "      border-bottom-color: var(--fill-color);\n",
              "    }\n",
              "  }\n",
              "</style>\n",
              "\n",
              "  <script>\n",
              "    async function quickchart(key) {\n",
              "      const quickchartButtonEl =\n",
              "        document.querySelector('#' + key + ' button');\n",
              "      quickchartButtonEl.disabled = true;  // To prevent multiple clicks.\n",
              "      quickchartButtonEl.classList.add('colab-df-spinner');\n",
              "      try {\n",
              "        const charts = await google.colab.kernel.invokeFunction(\n",
              "            'suggestCharts', [key], {});\n",
              "      } catch (error) {\n",
              "        console.error('Error during call to suggestCharts:', error);\n",
              "      }\n",
              "      quickchartButtonEl.classList.remove('colab-df-spinner');\n",
              "      quickchartButtonEl.classList.add('colab-df-quickchart-complete');\n",
              "    }\n",
              "    (() => {\n",
              "      let quickchartButtonEl =\n",
              "        document.querySelector('#df-6b91b81e-fd1a-4caa-a244-e873cdce9d7f button');\n",
              "      quickchartButtonEl.style.display =\n",
              "        google.colab.kernel.accessAllowed ? 'block' : 'none';\n",
              "    })();\n",
              "  </script>\n",
              "</div>\n",
              "    </div>\n",
              "  </div>\n"
            ]
          },
          "metadata": {},
          "execution_count": 6
        }
      ],
      "source": [
        "# Display the first 5 rows of the Dask DataFrame\n",
        "train_data.head()"
      ]
    },
    {
      "cell_type": "markdown",
      "metadata": {
        "id": "HDm3n7BKw_oZ"
      },
      "source": [
        "# **Feature engeneering**"
      ]
    },
    {
      "cell_type": "markdown",
      "metadata": {
        "id": "hoFt4IEFy2Wm"
      },
      "source": [
        "Filter the rows where \"SN_filter\" is equal to 1\n",
        "\n"
      ]
    },
    {
      "cell_type": "code",
      "execution_count": null,
      "metadata": {
        "id": "FgmJc9PUy0IX"
      },
      "outputs": [],
      "source": [
        "# Create a copy of train_data\n",
        "cleaned_train_data = train_data\n",
        "# Filter the rows where \"SN_filter\" is equal to 1\n",
        "cleaned_train_data = train_data[train_data['SN_filter'] == 1]\n",
        "# Convert the Dask DataFrame to a Pandas DataFrame\n",
        "cleaned_train_data = cleaned_train_data.compute()"
      ]
    },
    {
      "cell_type": "markdown",
      "metadata": {
        "id": "H8kB0ID6Z9De"
      },
      "source": [
        "Remove \"sequence_id\", \"dataset_name\", \"reads\", \"SN_filter\" and \"reactivity_error\" columns"
      ]
    },
    {
      "cell_type": "code",
      "execution_count": null,
      "metadata": {
        "id": "DNji9XrsIFEv"
      },
      "outputs": [],
      "source": [
        "# List of columns to remove\n",
        "columns_to_remove = [\"sequence_id\", \"dataset_name\", \"reads\", \"SN_filter\"]\n",
        "\n",
        "# Find columns containing \"reactivity_error\" in their names\n",
        "reactivity_error_columns = [col for col in cleaned_train_data.columns if \"reactivity_error\" in col]\n",
        "\n",
        "# Combine the columns to remove\n",
        "columns_to_remove.extend(reactivity_error_columns)\n",
        "\n",
        "# Drop the specified columns from the DataFrame\n",
        "cleaned_train_data = cleaned_train_data.drop(columns=columns_to_remove)"
      ]
    },
    {
      "cell_type": "markdown",
      "metadata": {
        "id": "ZqDa3YTXBZQ3"
      },
      "source": [
        "For each group of identical sequences, keep only the sequence with the highest signal to noise value"
      ]
    },
    {
      "cell_type": "code",
      "execution_count": null,
      "metadata": {
        "id": "7zlSxgrf4_MP"
      },
      "outputs": [],
      "source": [
        "import pandas as pd\n",
        "\n",
        "# Create two separate DataFrames based on \"experiment_type\"\n",
        "df_2A3_MaP = cleaned_train_data[cleaned_train_data['experiment_type'] == '2A3_MaP']\n",
        "df_DMS_MaP = cleaned_train_data[cleaned_train_data['experiment_type'] == 'DMS_MaP']\n",
        "\n",
        "# Delete cleaned_train_data to free space memory\n",
        "del cleaned_train_data\n",
        "\n",
        "# Function to keep rows with maximum signal_to_noise within identical sequences\n",
        "def filter_identical_sequences(df):\n",
        "    # Group by 'sequence' and keep the row with max 'signal_to_noise'\n",
        "    filtered_df = df.groupby('sequence').apply(lambda x: x.loc[x['signal_to_noise'].idxmax()])\n",
        "    return filtered_df\n",
        "\n",
        "# Filter df_2A3_MaP\n",
        "df_2A3_MaP = filter_identical_sequences(df_2A3_MaP)\n",
        "\n",
        "# Filter df_DMS_MaP\n",
        "df_DMS_MaP = filter_identical_sequences(df_DMS_MaP)\n",
        "\n",
        "# Concatenate the two data frames\n",
        "cleared_train_data = pd.concat([df_2A3_MaP, df_DMS_MaP], ignore_index=True)\n",
        "\n",
        "# Delete df_2A3_MaP and df_DMS_MaP to free space memory\n",
        "del df_2A3_MaP\n",
        "del df_DMS_MaP\n",
        "\n",
        "# Reset the index of the merged data frame\n",
        "cleared_train_data.reset_index(drop=True, inplace=True)\n",
        "\n",
        "# Remove the \"signal_to_noise\" column\n",
        "cleared_train_data = cleared_train_data.drop(columns=['signal_to_noise'])"
      ]
    },
    {
      "cell_type": "markdown",
      "metadata": {
        "id": "pqv2bnW_ddRa"
      },
      "source": [
        "Reduce the size of the cleared_train_data. Code inspired from: https://www.kaggle.com/code/saikiranvarma/reduce-memory-of-training-data-by-50"
      ]
    },
    {
      "cell_type": "code",
      "execution_count": null,
      "metadata": {
        "id": "imBfHVjSa1lf",
        "colab": {
          "base_uri": "https://localhost:8080/"
        },
        "outputId": "c1f2c28f-8526-49ee-f1ba-882e661d8331"
      },
      "outputs": [
        {
          "output_type": "stream",
          "name": "stdout",
          "text": [
            "Mem. usage decreased to 325.10 Mb (50.1% reduction)\n"
          ]
        }
      ],
      "source": [
        "import numpy as np\n",
        "\n",
        "def reduce_mem_usage(df, verbose=True):\n",
        "    numerics = ['int16', 'int32', 'int64', 'float16', 'float32', 'float64']\n",
        "    start_mem = df.memory_usage().sum() / 1024**2\n",
        "    for col in df.columns:\n",
        "        col_type = df[col].dtypes\n",
        "        if col_type in numerics:\n",
        "            c_min = df[col].min()\n",
        "            c_max = df[col].max()\n",
        "            if str(col_type)[:3] == 'int':\n",
        "                if c_min > np.iinfo(np.int8).min and c_max < np.iinfo(np.int8).max:\n",
        "                    df[col] = df[col].astype(np.int8)\n",
        "                elif c_min > np.iinfo(np.int16).min and c_max < np.iinfo(np.int16).max:\n",
        "                    df[col] = df[col].astype(np.int16)\n",
        "                elif c_min > np.iinfo(np.int32).min and c_max < np.iinfo(np.int32).max:\n",
        "                    df[col] = df[col].astype(np.int32)\n",
        "                elif c_min > np.iinfo(np.int64).min and c_max < np.iinfo(np.int64).max:\n",
        "                    df[col] = df[col].astype(np.int64)\n",
        "            else:\n",
        "                if c_min > np.finfo(np.float16).min and c_max < np.finfo(np.float16).max:\n",
        "                    df[col] = df[col].astype(np.float16)\n",
        "                elif c_min > np.finfo(np.float32).min and c_max < np.finfo(np.float32).max:\n",
        "                    df[col] = df[col].astype(np.float32)\n",
        "                else:\n",
        "                    df[col] = df[col].astype(np.float64)\n",
        "    end_mem = df.memory_usage().sum() / 1024**2\n",
        "    if verbose: print('Mem. usage decreased to {:5.2f} Mb ({:.1f}% reduction)'.format(end_mem, 100 * (start_mem - end_mem) / start_mem))\n",
        "    return df\n",
        "\n",
        "#Reduce memory usage by assigning the real datatypes based on the data\n",
        "cleared_train_data = reduce_mem_usage(cleared_train_data)"
      ]
    },
    {
      "cell_type": "markdown",
      "source": [
        "Save the cleared train data into a csv file"
      ],
      "metadata": {
        "id": "8PsUS4aNI5LP"
      }
    },
    {
      "cell_type": "code",
      "source": [
        "# Save cleared_train_data as a CSV file\n",
        "csv_path = '/content/drive/My Drive/M2BI_DRIVE/cleared_train_data.csv'\n",
        "cleared_train_data.to_csv(csv_path, index=False)"
      ],
      "metadata": {
        "id": "RpY4-pTPI_bQ"
      },
      "execution_count": null,
      "outputs": []
    },
    {
      "cell_type": "markdown",
      "source": [
        "Load cleared_train_data"
      ],
      "metadata": {
        "id": "m3Ar9yVHVK_X"
      }
    },
    {
      "cell_type": "code",
      "source": [
        "import pandas as pd\n",
        "import numpy as np\n",
        "\n",
        "# Define the path of the CSV file\n",
        "csv_path = '/content/drive/My Drive/M2BI_DRIVE/cleared_train_data.csv'\n",
        "\n",
        "# Load the CSV file as a Dask DataFrame\n",
        "cleared_train_data = pd.read_csv(csv_path)"
      ],
      "metadata": {
        "id": "km_7tqA8Sgmj"
      },
      "execution_count": null,
      "outputs": []
    },
    {
      "cell_type": "markdown",
      "source": [
        "Perform one-hot encoding for the nucleotides and for each nucleotide, combine with the two reactivity values in one row"
      ],
      "metadata": {
        "id": "1ZNqm0M6YTuc"
      }
    },
    {
      "cell_type": "code",
      "source": [
        "# Define a function to process the entire DataFrame\n",
        "def process_dataframe(df):\n",
        "    result_list = []\n",
        "    unique_sequences = df['sequence'].unique()\n",
        "\n",
        "    for sequence in unique_sequences:\n",
        "        sequence_data = df[df['sequence'] == sequence]\n",
        "        dms_map_row = sequence_data[sequence_data['experiment_type'] == 'DMS_MaP']\n",
        "        a3_map_row = sequence_data[sequence_data['experiment_type'] == '2A3_MaP']\n",
        "\n",
        "        tensor_rows = []\n",
        "        for i in range(len(sequence)):\n",
        "            dms_value = dms_map_row[f'reactivity_{i+1:04d}'].iloc[0] if not dms_map_row.empty else np.nan\n",
        "            a3_value = a3_map_row[f'reactivity_{i+1:04d}'].iloc[0] if not a3_map_row.empty else np.nan\n",
        "            nucleotide = sequence[i]\n",
        "            tensor_row = [nucleotide, dms_value, a3_value]\n",
        "            tensor_rows.append(tensor_row)\n",
        "\n",
        "        # Create a DataFrame from the tensor_rows\n",
        "        tensor_df = pd.DataFrame(tensor_rows, columns=['Nucleotide', 'DMS_MaP_Reactivity', '2A3_MaP_Reactivity'])\n",
        "\n",
        "        # Perform one-hot encoding for the 'Nucleotide' column\n",
        "        nucleotide_encoded = pd.get_dummies(tensor_df['Nucleotide'], prefix='Nucleotide')\n",
        "\n",
        "        # Drop the original 'Nucleotide' column\n",
        "        tensor_df.drop(columns=['Nucleotide'], inplace=True)\n",
        "\n",
        "        # Concatenate the one-hot encoded columns with the original DataFrame\n",
        "        tensor_df = pd.concat([nucleotide_encoded, tensor_df], axis=1)\n",
        "\n",
        "        result_list.append(tensor_df)\n",
        "\n",
        "    return result_list\n",
        "\n",
        "# Apply the function to the entire DataFrame\n",
        "cleared_train_data = process_dataframe(cleared_train_data)"
      ],
      "metadata": {
        "id": "FUC_aGf6Shhm"
      },
      "execution_count": null,
      "outputs": []
    },
    {
      "cell_type": "markdown",
      "source": [
        "Save cleared_train_data after one-hot encoding of nucleotides"
      ],
      "metadata": {
        "id": "mpVGkqVaVWVS"
      }
    },
    {
      "cell_type": "code",
      "source": [
        "import os\n",
        "\n",
        "# Define a function to save DataFrames to CSV files\n",
        "def save_dataframes_to_csv(cleared_train_data, output_directory):\n",
        "    for i, df in enumerate(cleared_train_data):\n",
        "        filename = f'sequence_{i}.csv'\n",
        "        filepath = os.path.join(output_directory, filename)\n",
        "        df.to_csv(filepath, index=False)\n",
        "\n",
        "# Specify the output directory where you want to save the CSV files\n",
        "output_directory = '/content/drive/My Drive/M2BI_DRIVE/one_hot_cleared_train_data/'\n",
        "\n",
        "# Call the function to save the DataFrames to CSV files\n",
        "save_dataframes_to_csv(cleared_train_data, output_directory)"
      ],
      "metadata": {
        "id": "KpyR2IpNSxs0"
      },
      "execution_count": null,
      "outputs": []
    },
    {
      "cell_type": "markdown",
      "source": [
        "Load cleared_train_data after one-hot encoding of nucleotides"
      ],
      "metadata": {
        "id": "wqGFxx7hYOuh"
      }
    },
    {
      "cell_type": "code",
      "source": [
        "# Specify the directory where the CSV files are located\n",
        "input_directory = '/content/drive/My Drive/M2BI_DRIVE/one_hot_cleared_train_data/'\n",
        "\n",
        "# Define a function to load DataFrames from CSV files\n",
        "def load_dataframes_from_csv(input_directory):\n",
        "    cleared_train_data = []\n",
        "\n",
        "    # List all CSV files in the input directory\n",
        "    csv_files = [f for f in os.listdir(input_directory) if f.endswith('.csv')]\n",
        "\n",
        "    for filename in csv_files:\n",
        "        filepath = os.path.join(input_directory, filename)\n",
        "\n",
        "        # Load the CSV file into a DataFrame\n",
        "        df = pd.read_csv(filepath)\n",
        "        cleared_train_data.append(df)\n",
        "\n",
        "    return cleared_train_data\n",
        "\n",
        "# Call the function to load the DataFrames from CSV files\n",
        "cleared_train_data = load_dataframes_from_csv(input_directory)"
      ],
      "metadata": {
        "id": "7i2pHFyVUho-"
      },
      "execution_count": null,
      "outputs": []
    },
    {
      "cell_type": "markdown",
      "metadata": {
        "id": "nzQVMwJp-amx"
      },
      "source": [
        "# **Model**\n",
        "(To be corrected)"
      ]
    },
    {
      "cell_type": "markdown",
      "source": [
        "Load cleared train data"
      ],
      "metadata": {
        "id": "rZT7N2KAJfFO"
      }
    },
    {
      "cell_type": "code",
      "execution_count": null,
      "metadata": {
        "id": "477pmJTr_Uoo"
      },
      "outputs": [],
      "source": [
        "import tensorflow as tf\n",
        "from tensorflow.keras.layers import LSTM, Input, Dense, Masking, Concatenate\n",
        "from tensorflow.keras.models import Model\n",
        "from sklearn.model_selection import train_test_split\n",
        "import numpy as np\n",
        "\n",
        "# Split the list of DataFrames into training and validation sets\n",
        "train_data, val_data = train_test_split(cleared_train_data, test_size=0.2, random_state=42)\n",
        "\n",
        "# Define a custom loss function that accounts for the mask\n",
        "def custom_loss(y_true, y_pred):\n",
        "    # Extract the mask from y_true\n",
        "    mask = tf.math.is_finite(y_true)\n",
        "\n",
        "    # Calculate the mean squared error, applying the mask\n",
        "    mse = tf.reduce_sum(tf.square(y_true - y_pred) * mask) / tf.reduce_sum(mask)\n",
        "\n",
        "    return mse\n",
        "\n",
        "# Define LSTM model architecture\n",
        "input_layer = Input(shape=(None, len(cleared_train_data[0].columns)))  # Variable sequence length\n",
        "\n",
        "# Apply masking layer to handle sequences of different lengths\n",
        "masked_input = Masking(mask_value=0.0)(input_layer)\n",
        "\n",
        "# LSTM layer with return_sequences=True for sequence-to-sequence prediction\n",
        "lstm_layer = LSTM(64, return_sequences=True)(masked_input)\n",
        "\n",
        "# Output layer for predicting reactivity values\n",
        "output_layer = Dense(1, activation='linear')(lstm_layer)\n",
        "\n",
        "# Create the model\n",
        "model = Model(inputs=input_layer, outputs=output_layer)\n",
        "\n",
        "# Compile the model with custom loss\n",
        "model.compile(optimizer='adam', loss=custom_loss)\n",
        "\n",
        "# Prepare the training and validation data\n",
        "X_train = [df.values[:, :-2] for df in train_data]  # Exclude the last two columns (Reactivities)\n",
        "y_train = [df.values[:, -2:] for df in train_data]   # Extract the last two columns (Reactivities)\n",
        "X_val = [df.values[:, :-2] for df in val_data]\n",
        "y_val = [df.values[:, -2:] for df in val_data]\n",
        "\n",
        "# Train the model\n",
        "model.fit(X_train, y_train, validation_data=(X_val, y_val), batch_size=32, epochs=10)\n",
        "\n",
        "# Now the model is trained and can handle sequences of varying lengths without padding or truncation."
      ]
    },
    {
      "cell_type": "markdown",
      "source": [
        "Define features and targets"
      ],
      "metadata": {
        "id": "G9PJMvm0KKkS"
      }
    },
    {
      "cell_type": "code",
      "source": [],
      "metadata": {
        "id": "Y-EtZee-KJ2j"
      },
      "execution_count": null,
      "outputs": []
    },
    {
      "cell_type": "markdown",
      "source": [
        "RNN model"
      ],
      "metadata": {
        "id": "hgJnPRBiKVSK"
      }
    },
    {
      "cell_type": "code",
      "source": [],
      "metadata": {
        "id": "jDxMZJXLKWtD"
      },
      "execution_count": null,
      "outputs": []
    },
    {
      "cell_type": "markdown",
      "source": [
        "Train the model using \"mini-batch\" training loop to avoid RAM issu"
      ],
      "metadata": {
        "id": "QOvFzDh1gaJa"
      }
    },
    {
      "cell_type": "code",
      "source": [],
      "metadata": {
        "id": "1TBLcl3PVf9W"
      },
      "execution_count": null,
      "outputs": []
    },
    {
      "cell_type": "markdown",
      "metadata": {
        "id": "qeaV2Er3_XEe"
      },
      "source": [
        "# **Load test**"
      ]
    },
    {
      "cell_type": "code",
      "execution_count": null,
      "metadata": {
        "id": "jyeZ3NFx_cXW"
      },
      "outputs": [],
      "source": []
    },
    {
      "cell_type": "markdown",
      "metadata": {
        "id": "N16LwvGQ_cov"
      },
      "source": [
        "# **Check efficiency of the model**"
      ]
    },
    {
      "cell_type": "code",
      "execution_count": null,
      "metadata": {
        "id": "5g3Fg3cc_s9-"
      },
      "outputs": [],
      "source": []
    },
    {
      "cell_type": "markdown",
      "metadata": {
        "id": "y6pvbufG_g3Y"
      },
      "source": [
        "# **Save submission**"
      ]
    },
    {
      "cell_type": "code",
      "execution_count": null,
      "metadata": {
        "id": "JSdj9uMq_tf4"
      },
      "outputs": [],
      "source": []
    },
    {
      "cell_type": "markdown",
      "metadata": {
        "id": "Rv5l23F3_lS5"
      },
      "source": [
        "# **Plot RNA structure**"
      ]
    },
    {
      "cell_type": "code",
      "execution_count": null,
      "metadata": {
        "id": "52s39bl1_uOQ"
      },
      "outputs": [],
      "source": []
    }
  ],
  "metadata": {
    "colab": {
      "provenance": []
    },
    "kernelspec": {
      "display_name": "Python 3",
      "name": "python3"
    },
    "language_info": {
      "name": "python"
    }
  },
  "nbformat": 4,
  "nbformat_minor": 0
}